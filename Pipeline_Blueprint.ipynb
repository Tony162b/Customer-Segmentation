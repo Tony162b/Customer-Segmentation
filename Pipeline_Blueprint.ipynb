{
  "nbformat": 4,
  "nbformat_minor": 0,
  "metadata": {
    "colab": {
      "name": "MockD.ipynb",
      "provenance": [],
      "include_colab_link": true
    },
    "kernelspec": {
      "name": "python3",
      "display_name": "Python 3"
    },
    "language_info": {
      "name": "python"
    }
  },
  "cells": [
    {
      "cell_type": "markdown",
      "metadata": {
        "id": "view-in-github",
        "colab_type": "text"
      },
      "source": [
        "<a href=\"https://colab.research.google.com/github/Tony162b/Customer-Segmentation/blob/main/Pipeline_Blueprint.ipynb\" target=\"_parent\"><img src=\"https://colab.research.google.com/assets/colab-badge.svg\" alt=\"Open In Colab\"/></a>"
      ]
    },
    {
      "cell_type": "code",
      "execution_count": null,
      "metadata": {
        "id": "IJ-X2TTZ9Jtg"
      },
      "outputs": [],
      "source": [
        "import pandas as pd\n",
        "import numpy as np\n",
        "%matplotlib inline\n",
        "import matplotlib.pyplot as plt\n",
        "import seaborn as sns\n",
        "import warnings\n",
        "warnings.filterwarnings(\"ignore\")"
      ]
    },
    {
      "cell_type": "markdown",
      "source": [
        "First step of the process\n",
        "\n",
        "The very first step of EDA is Data Sourcing, we have seen how we can access data and load into the system."
      ],
      "metadata": {
        "id": "vJ-CZEjwamUY"
      }
    },
    {
      "cell_type": "code",
      "source": [
        "df=pd.read_csv('/content/MOCK_DATA.csv')\n",
        "df.head()"
      ],
      "metadata": {
        "colab": {
          "base_uri": "https://localhost:8080/",
          "height": 206
        },
        "id": "AOe4FS_6-G7E",
        "outputId": "1e87af92-57b8-4767-e8a0-075dd55743ca"
      },
      "execution_count": null,
      "outputs": [
        {
          "output_type": "execute_result",
          "data": {
            "text/plain": [
              "   id                           customer_id first_name last_name  \\\n",
              "0   1  f63e4b72-a7ca-48e1-ba57-014e414fca68     Wyatan   Cadigan   \n",
              "1   2  8a2eed34-f03b-4f78-8f2c-8c59a947314f   Harriett  Hanratty   \n",
              "2   3  3d3c984a-3125-4f73-8e77-8d139a04f2e3      Danya    Rosoni   \n",
              "3   4  240de159-ae75-4e0d-9b3c-6e5cf9bc128c     Shermy       NaN   \n",
              "4   5  64c3ccd2-af18-46f3-8545-53eac4b7de95   Tatiania    Preedy   \n",
              "\n",
              "                      email  gender      income spending_per_month  \\\n",
              "0         wcadigan0@who.int    Male  $156703.51            $975.78   \n",
              "1  hhanratty1@sitemeter.com  Female   $74103.09           $4087.96   \n",
              "2      drosoni2@histats.com    Male    $6594.46             $28.08   \n",
              "3           svye3@cam.ac.uk    Male   $18348.07           $2823.02   \n",
              "4      tpreedy4@answers.com  Female   $16625.11            $544.94   \n",
              "\n",
              "  loan_burden  health_burden major_purchases  \n",
              "0  $433525.17              0      mastercard  \n",
              "1  $414034.91              0      mastercard  \n",
              "2  $415657.74              0      mastercard  \n",
              "3  $314674.14              1      mastercard  \n",
              "4  $182711.32              0      mastercard  "
            ],
            "text/html": [
              "\n",
              "  <div id=\"df-53375b88-16a1-401a-8e67-679076ca4275\">\n",
              "    <div class=\"colab-df-container\">\n",
              "      <div>\n",
              "<style scoped>\n",
              "    .dataframe tbody tr th:only-of-type {\n",
              "        vertical-align: middle;\n",
              "    }\n",
              "\n",
              "    .dataframe tbody tr th {\n",
              "        vertical-align: top;\n",
              "    }\n",
              "\n",
              "    .dataframe thead th {\n",
              "        text-align: right;\n",
              "    }\n",
              "</style>\n",
              "<table border=\"1\" class=\"dataframe\">\n",
              "  <thead>\n",
              "    <tr style=\"text-align: right;\">\n",
              "      <th></th>\n",
              "      <th>id</th>\n",
              "      <th>customer_id</th>\n",
              "      <th>first_name</th>\n",
              "      <th>last_name</th>\n",
              "      <th>email</th>\n",
              "      <th>gender</th>\n",
              "      <th>income</th>\n",
              "      <th>spending_per_month</th>\n",
              "      <th>loan_burden</th>\n",
              "      <th>health_burden</th>\n",
              "      <th>major_purchases</th>\n",
              "    </tr>\n",
              "  </thead>\n",
              "  <tbody>\n",
              "    <tr>\n",
              "      <th>0</th>\n",
              "      <td>1</td>\n",
              "      <td>f63e4b72-a7ca-48e1-ba57-014e414fca68</td>\n",
              "      <td>Wyatan</td>\n",
              "      <td>Cadigan</td>\n",
              "      <td>wcadigan0@who.int</td>\n",
              "      <td>Male</td>\n",
              "      <td>$156703.51</td>\n",
              "      <td>$975.78</td>\n",
              "      <td>$433525.17</td>\n",
              "      <td>0</td>\n",
              "      <td>mastercard</td>\n",
              "    </tr>\n",
              "    <tr>\n",
              "      <th>1</th>\n",
              "      <td>2</td>\n",
              "      <td>8a2eed34-f03b-4f78-8f2c-8c59a947314f</td>\n",
              "      <td>Harriett</td>\n",
              "      <td>Hanratty</td>\n",
              "      <td>hhanratty1@sitemeter.com</td>\n",
              "      <td>Female</td>\n",
              "      <td>$74103.09</td>\n",
              "      <td>$4087.96</td>\n",
              "      <td>$414034.91</td>\n",
              "      <td>0</td>\n",
              "      <td>mastercard</td>\n",
              "    </tr>\n",
              "    <tr>\n",
              "      <th>2</th>\n",
              "      <td>3</td>\n",
              "      <td>3d3c984a-3125-4f73-8e77-8d139a04f2e3</td>\n",
              "      <td>Danya</td>\n",
              "      <td>Rosoni</td>\n",
              "      <td>drosoni2@histats.com</td>\n",
              "      <td>Male</td>\n",
              "      <td>$6594.46</td>\n",
              "      <td>$28.08</td>\n",
              "      <td>$415657.74</td>\n",
              "      <td>0</td>\n",
              "      <td>mastercard</td>\n",
              "    </tr>\n",
              "    <tr>\n",
              "      <th>3</th>\n",
              "      <td>4</td>\n",
              "      <td>240de159-ae75-4e0d-9b3c-6e5cf9bc128c</td>\n",
              "      <td>Shermy</td>\n",
              "      <td>NaN</td>\n",
              "      <td>svye3@cam.ac.uk</td>\n",
              "      <td>Male</td>\n",
              "      <td>$18348.07</td>\n",
              "      <td>$2823.02</td>\n",
              "      <td>$314674.14</td>\n",
              "      <td>1</td>\n",
              "      <td>mastercard</td>\n",
              "    </tr>\n",
              "    <tr>\n",
              "      <th>4</th>\n",
              "      <td>5</td>\n",
              "      <td>64c3ccd2-af18-46f3-8545-53eac4b7de95</td>\n",
              "      <td>Tatiania</td>\n",
              "      <td>Preedy</td>\n",
              "      <td>tpreedy4@answers.com</td>\n",
              "      <td>Female</td>\n",
              "      <td>$16625.11</td>\n",
              "      <td>$544.94</td>\n",
              "      <td>$182711.32</td>\n",
              "      <td>0</td>\n",
              "      <td>mastercard</td>\n",
              "    </tr>\n",
              "  </tbody>\n",
              "</table>\n",
              "</div>\n",
              "      <button class=\"colab-df-convert\" onclick=\"convertToInteractive('df-53375b88-16a1-401a-8e67-679076ca4275')\"\n",
              "              title=\"Convert this dataframe to an interactive table.\"\n",
              "              style=\"display:none;\">\n",
              "        \n",
              "  <svg xmlns=\"http://www.w3.org/2000/svg\" height=\"24px\"viewBox=\"0 0 24 24\"\n",
              "       width=\"24px\">\n",
              "    <path d=\"M0 0h24v24H0V0z\" fill=\"none\"/>\n",
              "    <path d=\"M18.56 5.44l.94 2.06.94-2.06 2.06-.94-2.06-.94-.94-2.06-.94 2.06-2.06.94zm-11 1L8.5 8.5l.94-2.06 2.06-.94-2.06-.94L8.5 2.5l-.94 2.06-2.06.94zm10 10l.94 2.06.94-2.06 2.06-.94-2.06-.94-.94-2.06-.94 2.06-2.06.94z\"/><path d=\"M17.41 7.96l-1.37-1.37c-.4-.4-.92-.59-1.43-.59-.52 0-1.04.2-1.43.59L10.3 9.45l-7.72 7.72c-.78.78-.78 2.05 0 2.83L4 21.41c.39.39.9.59 1.41.59.51 0 1.02-.2 1.41-.59l7.78-7.78 2.81-2.81c.8-.78.8-2.07 0-2.86zM5.41 20L4 18.59l7.72-7.72 1.47 1.35L5.41 20z\"/>\n",
              "  </svg>\n",
              "      </button>\n",
              "      \n",
              "  <style>\n",
              "    .colab-df-container {\n",
              "      display:flex;\n",
              "      flex-wrap:wrap;\n",
              "      gap: 12px;\n",
              "    }\n",
              "\n",
              "    .colab-df-convert {\n",
              "      background-color: #E8F0FE;\n",
              "      border: none;\n",
              "      border-radius: 50%;\n",
              "      cursor: pointer;\n",
              "      display: none;\n",
              "      fill: #1967D2;\n",
              "      height: 32px;\n",
              "      padding: 0 0 0 0;\n",
              "      width: 32px;\n",
              "    }\n",
              "\n",
              "    .colab-df-convert:hover {\n",
              "      background-color: #E2EBFA;\n",
              "      box-shadow: 0px 1px 2px rgba(60, 64, 67, 0.3), 0px 1px 3px 1px rgba(60, 64, 67, 0.15);\n",
              "      fill: #174EA6;\n",
              "    }\n",
              "\n",
              "    [theme=dark] .colab-df-convert {\n",
              "      background-color: #3B4455;\n",
              "      fill: #D2E3FC;\n",
              "    }\n",
              "\n",
              "    [theme=dark] .colab-df-convert:hover {\n",
              "      background-color: #434B5C;\n",
              "      box-shadow: 0px 1px 3px 1px rgba(0, 0, 0, 0.15);\n",
              "      filter: drop-shadow(0px 1px 2px rgba(0, 0, 0, 0.3));\n",
              "      fill: #FFFFFF;\n",
              "    }\n",
              "  </style>\n",
              "\n",
              "      <script>\n",
              "        const buttonEl =\n",
              "          document.querySelector('#df-53375b88-16a1-401a-8e67-679076ca4275 button.colab-df-convert');\n",
              "        buttonEl.style.display =\n",
              "          google.colab.kernel.accessAllowed ? 'block' : 'none';\n",
              "\n",
              "        async function convertToInteractive(key) {\n",
              "          const element = document.querySelector('#df-53375b88-16a1-401a-8e67-679076ca4275');\n",
              "          const dataTable =\n",
              "            await google.colab.kernel.invokeFunction('convertToInteractive',\n",
              "                                                     [key], {});\n",
              "          if (!dataTable) return;\n",
              "\n",
              "          const docLinkHtml = 'Like what you see? Visit the ' +\n",
              "            '<a target=\"_blank\" href=https://colab.research.google.com/notebooks/data_table.ipynb>data table notebook</a>'\n",
              "            + ' to learn more about interactive tables.';\n",
              "          element.innerHTML = '';\n",
              "          dataTable['output_type'] = 'display_data';\n",
              "          await google.colab.output.renderOutput(dataTable, element);\n",
              "          const docLink = document.createElement('div');\n",
              "          docLink.innerHTML = docLinkHtml;\n",
              "          element.appendChild(docLink);\n",
              "        }\n",
              "      </script>\n",
              "    </div>\n",
              "  </div>\n",
              "  "
            ]
          },
          "metadata": {},
          "execution_count": 185
        }
      ]
    },
    {
      "cell_type": "code",
      "source": [
        "df.describe()"
      ],
      "metadata": {
        "colab": {
          "base_uri": "https://localhost:8080/",
          "height": 300
        },
        "id": "fcyxyK9A-wBr",
        "outputId": "e6d8a3db-18ab-478d-d59a-5ebc2b80673a"
      },
      "execution_count": null,
      "outputs": [
        {
          "output_type": "execute_result",
          "data": {
            "text/plain": [
              "                id  health_burden\n",
              "count  1000.000000    1000.000000\n",
              "mean    500.500000       0.297000\n",
              "std     288.819436       0.457165\n",
              "min       1.000000       0.000000\n",
              "25%     250.750000       0.000000\n",
              "50%     500.500000       0.000000\n",
              "75%     750.250000       1.000000\n",
              "max    1000.000000       1.000000"
            ],
            "text/html": [
              "\n",
              "  <div id=\"df-62d657cb-5f7a-44d1-b1fd-6b8a8ab52df8\">\n",
              "    <div class=\"colab-df-container\">\n",
              "      <div>\n",
              "<style scoped>\n",
              "    .dataframe tbody tr th:only-of-type {\n",
              "        vertical-align: middle;\n",
              "    }\n",
              "\n",
              "    .dataframe tbody tr th {\n",
              "        vertical-align: top;\n",
              "    }\n",
              "\n",
              "    .dataframe thead th {\n",
              "        text-align: right;\n",
              "    }\n",
              "</style>\n",
              "<table border=\"1\" class=\"dataframe\">\n",
              "  <thead>\n",
              "    <tr style=\"text-align: right;\">\n",
              "      <th></th>\n",
              "      <th>id</th>\n",
              "      <th>health_burden</th>\n",
              "    </tr>\n",
              "  </thead>\n",
              "  <tbody>\n",
              "    <tr>\n",
              "      <th>count</th>\n",
              "      <td>1000.000000</td>\n",
              "      <td>1000.000000</td>\n",
              "    </tr>\n",
              "    <tr>\n",
              "      <th>mean</th>\n",
              "      <td>500.500000</td>\n",
              "      <td>0.297000</td>\n",
              "    </tr>\n",
              "    <tr>\n",
              "      <th>std</th>\n",
              "      <td>288.819436</td>\n",
              "      <td>0.457165</td>\n",
              "    </tr>\n",
              "    <tr>\n",
              "      <th>min</th>\n",
              "      <td>1.000000</td>\n",
              "      <td>0.000000</td>\n",
              "    </tr>\n",
              "    <tr>\n",
              "      <th>25%</th>\n",
              "      <td>250.750000</td>\n",
              "      <td>0.000000</td>\n",
              "    </tr>\n",
              "    <tr>\n",
              "      <th>50%</th>\n",
              "      <td>500.500000</td>\n",
              "      <td>0.000000</td>\n",
              "    </tr>\n",
              "    <tr>\n",
              "      <th>75%</th>\n",
              "      <td>750.250000</td>\n",
              "      <td>1.000000</td>\n",
              "    </tr>\n",
              "    <tr>\n",
              "      <th>max</th>\n",
              "      <td>1000.000000</td>\n",
              "      <td>1.000000</td>\n",
              "    </tr>\n",
              "  </tbody>\n",
              "</table>\n",
              "</div>\n",
              "      <button class=\"colab-df-convert\" onclick=\"convertToInteractive('df-62d657cb-5f7a-44d1-b1fd-6b8a8ab52df8')\"\n",
              "              title=\"Convert this dataframe to an interactive table.\"\n",
              "              style=\"display:none;\">\n",
              "        \n",
              "  <svg xmlns=\"http://www.w3.org/2000/svg\" height=\"24px\"viewBox=\"0 0 24 24\"\n",
              "       width=\"24px\">\n",
              "    <path d=\"M0 0h24v24H0V0z\" fill=\"none\"/>\n",
              "    <path d=\"M18.56 5.44l.94 2.06.94-2.06 2.06-.94-2.06-.94-.94-2.06-.94 2.06-2.06.94zm-11 1L8.5 8.5l.94-2.06 2.06-.94-2.06-.94L8.5 2.5l-.94 2.06-2.06.94zm10 10l.94 2.06.94-2.06 2.06-.94-2.06-.94-.94-2.06-.94 2.06-2.06.94z\"/><path d=\"M17.41 7.96l-1.37-1.37c-.4-.4-.92-.59-1.43-.59-.52 0-1.04.2-1.43.59L10.3 9.45l-7.72 7.72c-.78.78-.78 2.05 0 2.83L4 21.41c.39.39.9.59 1.41.59.51 0 1.02-.2 1.41-.59l7.78-7.78 2.81-2.81c.8-.78.8-2.07 0-2.86zM5.41 20L4 18.59l7.72-7.72 1.47 1.35L5.41 20z\"/>\n",
              "  </svg>\n",
              "      </button>\n",
              "      \n",
              "  <style>\n",
              "    .colab-df-container {\n",
              "      display:flex;\n",
              "      flex-wrap:wrap;\n",
              "      gap: 12px;\n",
              "    }\n",
              "\n",
              "    .colab-df-convert {\n",
              "      background-color: #E8F0FE;\n",
              "      border: none;\n",
              "      border-radius: 50%;\n",
              "      cursor: pointer;\n",
              "      display: none;\n",
              "      fill: #1967D2;\n",
              "      height: 32px;\n",
              "      padding: 0 0 0 0;\n",
              "      width: 32px;\n",
              "    }\n",
              "\n",
              "    .colab-df-convert:hover {\n",
              "      background-color: #E2EBFA;\n",
              "      box-shadow: 0px 1px 2px rgba(60, 64, 67, 0.3), 0px 1px 3px 1px rgba(60, 64, 67, 0.15);\n",
              "      fill: #174EA6;\n",
              "    }\n",
              "\n",
              "    [theme=dark] .colab-df-convert {\n",
              "      background-color: #3B4455;\n",
              "      fill: #D2E3FC;\n",
              "    }\n",
              "\n",
              "    [theme=dark] .colab-df-convert:hover {\n",
              "      background-color: #434B5C;\n",
              "      box-shadow: 0px 1px 3px 1px rgba(0, 0, 0, 0.15);\n",
              "      filter: drop-shadow(0px 1px 2px rgba(0, 0, 0, 0.3));\n",
              "      fill: #FFFFFF;\n",
              "    }\n",
              "  </style>\n",
              "\n",
              "      <script>\n",
              "        const buttonEl =\n",
              "          document.querySelector('#df-62d657cb-5f7a-44d1-b1fd-6b8a8ab52df8 button.colab-df-convert');\n",
              "        buttonEl.style.display =\n",
              "          google.colab.kernel.accessAllowed ? 'block' : 'none';\n",
              "\n",
              "        async function convertToInteractive(key) {\n",
              "          const element = document.querySelector('#df-62d657cb-5f7a-44d1-b1fd-6b8a8ab52df8');\n",
              "          const dataTable =\n",
              "            await google.colab.kernel.invokeFunction('convertToInteractive',\n",
              "                                                     [key], {});\n",
              "          if (!dataTable) return;\n",
              "\n",
              "          const docLinkHtml = 'Like what you see? Visit the ' +\n",
              "            '<a target=\"_blank\" href=https://colab.research.google.com/notebooks/data_table.ipynb>data table notebook</a>'\n",
              "            + ' to learn more about interactive tables.';\n",
              "          element.innerHTML = '';\n",
              "          dataTable['output_type'] = 'display_data';\n",
              "          await google.colab.output.renderOutput(dataTable, element);\n",
              "          const docLink = document.createElement('div');\n",
              "          docLink.innerHTML = docLinkHtml;\n",
              "          element.appendChild(docLink);\n",
              "        }\n",
              "      </script>\n",
              "    </div>\n",
              "  </div>\n",
              "  "
            ]
          },
          "metadata": {},
          "execution_count": 186
        }
      ]
    },
    {
      "cell_type": "code",
      "source": [
        "df.info()"
      ],
      "metadata": {
        "colab": {
          "base_uri": "https://localhost:8080/"
        },
        "id": "MfjhWtaT_Z3g",
        "outputId": "1dbffa2a-c6e1-44e6-c2c5-4a987eb387fc"
      },
      "execution_count": null,
      "outputs": [
        {
          "output_type": "stream",
          "name": "stdout",
          "text": [
            "<class 'pandas.core.frame.DataFrame'>\n",
            "RangeIndex: 1000 entries, 0 to 999\n",
            "Data columns (total 11 columns):\n",
            " #   Column              Non-Null Count  Dtype \n",
            "---  ------              --------------  ----- \n",
            " 0   id                  1000 non-null   int64 \n",
            " 1   customer_id         952 non-null    object\n",
            " 2   first_name          934 non-null    object\n",
            " 3   last_name           879 non-null    object\n",
            " 4   email               1000 non-null   object\n",
            " 5   gender              1000 non-null   object\n",
            " 6   income              793 non-null    object\n",
            " 7   spending_per_month  952 non-null    object\n",
            " 8   loan_burden         698 non-null    object\n",
            " 9   health_burden       1000 non-null   int64 \n",
            " 10  major_purchases     788 non-null    object\n",
            "dtypes: int64(2), object(9)\n",
            "memory usage: 86.1+ KB\n"
          ]
        }
      ]
    },
    {
      "cell_type": "markdown",
      "source": [
        "After completing the Data Sourcing, the next step in the process of EDA is Data Cleaning. It is very important to get rid of the irregularities and clean the data after sourcing it into the system."
      ],
      "metadata": {
        "id": "eRqbV38kbUOj"
      }
    },
    {
      "cell_type": "code",
      "source": [
        "#we shall drop all the columns that are not relevant or important to the analysis\n",
        "df.drop([\"customer_id\"], axis = 1, inplace=True)\n",
        "df.drop([\"id\"], axis = 1, inplace=True)\n",
        "df.drop(['email'],axis=1,inplace=True)"
      ],
      "metadata": {
        "id": "08PVirx-5_hL"
      },
      "execution_count": null,
      "outputs": []
    },
    {
      "cell_type": "code",
      "source": [
        "df.head()"
      ],
      "metadata": {
        "colab": {
          "base_uri": "https://localhost:8080/",
          "height": 206
        },
        "id": "V1vJDNKy7T5K",
        "outputId": "4089dede-3f52-4fa7-a064-221e141238cd"
      },
      "execution_count": null,
      "outputs": [
        {
          "output_type": "execute_result",
          "data": {
            "text/plain": [
              "  first_name last_name  gender      income spending_per_month loan_burden  \\\n",
              "0     Wyatan   Cadigan    Male  $156703.51            $975.78  $433525.17   \n",
              "1   Harriett  Hanratty  Female   $74103.09           $4087.96  $414034.91   \n",
              "2      Danya    Rosoni    Male    $6594.46             $28.08  $415657.74   \n",
              "3     Shermy       NaN    Male   $18348.07           $2823.02  $314674.14   \n",
              "4   Tatiania    Preedy  Female   $16625.11            $544.94  $182711.32   \n",
              "\n",
              "   health_burden major_purchases  \n",
              "0              0      mastercard  \n",
              "1              0      mastercard  \n",
              "2              0      mastercard  \n",
              "3              1      mastercard  \n",
              "4              0      mastercard  "
            ],
            "text/html": [
              "\n",
              "  <div id=\"df-d26f9d7d-ad21-4203-9173-134edf2a27ac\">\n",
              "    <div class=\"colab-df-container\">\n",
              "      <div>\n",
              "<style scoped>\n",
              "    .dataframe tbody tr th:only-of-type {\n",
              "        vertical-align: middle;\n",
              "    }\n",
              "\n",
              "    .dataframe tbody tr th {\n",
              "        vertical-align: top;\n",
              "    }\n",
              "\n",
              "    .dataframe thead th {\n",
              "        text-align: right;\n",
              "    }\n",
              "</style>\n",
              "<table border=\"1\" class=\"dataframe\">\n",
              "  <thead>\n",
              "    <tr style=\"text-align: right;\">\n",
              "      <th></th>\n",
              "      <th>first_name</th>\n",
              "      <th>last_name</th>\n",
              "      <th>gender</th>\n",
              "      <th>income</th>\n",
              "      <th>spending_per_month</th>\n",
              "      <th>loan_burden</th>\n",
              "      <th>health_burden</th>\n",
              "      <th>major_purchases</th>\n",
              "    </tr>\n",
              "  </thead>\n",
              "  <tbody>\n",
              "    <tr>\n",
              "      <th>0</th>\n",
              "      <td>Wyatan</td>\n",
              "      <td>Cadigan</td>\n",
              "      <td>Male</td>\n",
              "      <td>$156703.51</td>\n",
              "      <td>$975.78</td>\n",
              "      <td>$433525.17</td>\n",
              "      <td>0</td>\n",
              "      <td>mastercard</td>\n",
              "    </tr>\n",
              "    <tr>\n",
              "      <th>1</th>\n",
              "      <td>Harriett</td>\n",
              "      <td>Hanratty</td>\n",
              "      <td>Female</td>\n",
              "      <td>$74103.09</td>\n",
              "      <td>$4087.96</td>\n",
              "      <td>$414034.91</td>\n",
              "      <td>0</td>\n",
              "      <td>mastercard</td>\n",
              "    </tr>\n",
              "    <tr>\n",
              "      <th>2</th>\n",
              "      <td>Danya</td>\n",
              "      <td>Rosoni</td>\n",
              "      <td>Male</td>\n",
              "      <td>$6594.46</td>\n",
              "      <td>$28.08</td>\n",
              "      <td>$415657.74</td>\n",
              "      <td>0</td>\n",
              "      <td>mastercard</td>\n",
              "    </tr>\n",
              "    <tr>\n",
              "      <th>3</th>\n",
              "      <td>Shermy</td>\n",
              "      <td>NaN</td>\n",
              "      <td>Male</td>\n",
              "      <td>$18348.07</td>\n",
              "      <td>$2823.02</td>\n",
              "      <td>$314674.14</td>\n",
              "      <td>1</td>\n",
              "      <td>mastercard</td>\n",
              "    </tr>\n",
              "    <tr>\n",
              "      <th>4</th>\n",
              "      <td>Tatiania</td>\n",
              "      <td>Preedy</td>\n",
              "      <td>Female</td>\n",
              "      <td>$16625.11</td>\n",
              "      <td>$544.94</td>\n",
              "      <td>$182711.32</td>\n",
              "      <td>0</td>\n",
              "      <td>mastercard</td>\n",
              "    </tr>\n",
              "  </tbody>\n",
              "</table>\n",
              "</div>\n",
              "      <button class=\"colab-df-convert\" onclick=\"convertToInteractive('df-d26f9d7d-ad21-4203-9173-134edf2a27ac')\"\n",
              "              title=\"Convert this dataframe to an interactive table.\"\n",
              "              style=\"display:none;\">\n",
              "        \n",
              "  <svg xmlns=\"http://www.w3.org/2000/svg\" height=\"24px\"viewBox=\"0 0 24 24\"\n",
              "       width=\"24px\">\n",
              "    <path d=\"M0 0h24v24H0V0z\" fill=\"none\"/>\n",
              "    <path d=\"M18.56 5.44l.94 2.06.94-2.06 2.06-.94-2.06-.94-.94-2.06-.94 2.06-2.06.94zm-11 1L8.5 8.5l.94-2.06 2.06-.94-2.06-.94L8.5 2.5l-.94 2.06-2.06.94zm10 10l.94 2.06.94-2.06 2.06-.94-2.06-.94-.94-2.06-.94 2.06-2.06.94z\"/><path d=\"M17.41 7.96l-1.37-1.37c-.4-.4-.92-.59-1.43-.59-.52 0-1.04.2-1.43.59L10.3 9.45l-7.72 7.72c-.78.78-.78 2.05 0 2.83L4 21.41c.39.39.9.59 1.41.59.51 0 1.02-.2 1.41-.59l7.78-7.78 2.81-2.81c.8-.78.8-2.07 0-2.86zM5.41 20L4 18.59l7.72-7.72 1.47 1.35L5.41 20z\"/>\n",
              "  </svg>\n",
              "      </button>\n",
              "      \n",
              "  <style>\n",
              "    .colab-df-container {\n",
              "      display:flex;\n",
              "      flex-wrap:wrap;\n",
              "      gap: 12px;\n",
              "    }\n",
              "\n",
              "    .colab-df-convert {\n",
              "      background-color: #E8F0FE;\n",
              "      border: none;\n",
              "      border-radius: 50%;\n",
              "      cursor: pointer;\n",
              "      display: none;\n",
              "      fill: #1967D2;\n",
              "      height: 32px;\n",
              "      padding: 0 0 0 0;\n",
              "      width: 32px;\n",
              "    }\n",
              "\n",
              "    .colab-df-convert:hover {\n",
              "      background-color: #E2EBFA;\n",
              "      box-shadow: 0px 1px 2px rgba(60, 64, 67, 0.3), 0px 1px 3px 1px rgba(60, 64, 67, 0.15);\n",
              "      fill: #174EA6;\n",
              "    }\n",
              "\n",
              "    [theme=dark] .colab-df-convert {\n",
              "      background-color: #3B4455;\n",
              "      fill: #D2E3FC;\n",
              "    }\n",
              "\n",
              "    [theme=dark] .colab-df-convert:hover {\n",
              "      background-color: #434B5C;\n",
              "      box-shadow: 0px 1px 3px 1px rgba(0, 0, 0, 0.15);\n",
              "      filter: drop-shadow(0px 1px 2px rgba(0, 0, 0, 0.3));\n",
              "      fill: #FFFFFF;\n",
              "    }\n",
              "  </style>\n",
              "\n",
              "      <script>\n",
              "        const buttonEl =\n",
              "          document.querySelector('#df-d26f9d7d-ad21-4203-9173-134edf2a27ac button.colab-df-convert');\n",
              "        buttonEl.style.display =\n",
              "          google.colab.kernel.accessAllowed ? 'block' : 'none';\n",
              "\n",
              "        async function convertToInteractive(key) {\n",
              "          const element = document.querySelector('#df-d26f9d7d-ad21-4203-9173-134edf2a27ac');\n",
              "          const dataTable =\n",
              "            await google.colab.kernel.invokeFunction('convertToInteractive',\n",
              "                                                     [key], {});\n",
              "          if (!dataTable) return;\n",
              "\n",
              "          const docLinkHtml = 'Like what you see? Visit the ' +\n",
              "            '<a target=\"_blank\" href=https://colab.research.google.com/notebooks/data_table.ipynb>data table notebook</a>'\n",
              "            + ' to learn more about interactive tables.';\n",
              "          element.innerHTML = '';\n",
              "          dataTable['output_type'] = 'display_data';\n",
              "          await google.colab.output.renderOutput(dataTable, element);\n",
              "          const docLink = document.createElement('div');\n",
              "          docLink.innerHTML = docLinkHtml;\n",
              "          element.appendChild(docLink);\n",
              "        }\n",
              "      </script>\n",
              "    </div>\n",
              "  </div>\n",
              "  "
            ]
          },
          "metadata": {},
          "execution_count": 189
        }
      ]
    },
    {
      "cell_type": "code",
      "source": [
        "df.dtypes"
      ],
      "metadata": {
        "colab": {
          "base_uri": "https://localhost:8080/"
        },
        "id": "frSuQKvEi9Xh",
        "outputId": "0885231c-e130-4ae4-ba23-66f7584be8b2"
      },
      "execution_count": null,
      "outputs": [
        {
          "output_type": "execute_result",
          "data": {
            "text/plain": [
              "first_name            object\n",
              "last_name             object\n",
              "gender                object\n",
              "income                object\n",
              "spending_per_month    object\n",
              "loan_burden           object\n",
              "health_burden          int64\n",
              "major_purchases       object\n",
              "dtype: object"
            ]
          },
          "metadata": {},
          "execution_count": 190
        }
      ]
    },
    {
      "cell_type": "code",
      "source": [
        "#df['income'].astype(str).astype(int)\n",
        "\n",
        "# string to int\n",
        "#pd.to_numeric(df['income'])\n",
        "\n",
        "#df[\"income\"] = df[\"income\"].astype(\"int\")\n",
        "#df.dtypes"
      ],
      "metadata": {
        "id": "3QBYnOO2l_kA"
      },
      "execution_count": null,
      "outputs": []
    },
    {
      "cell_type": "code",
      "source": [
        "df.shape"
      ],
      "metadata": {
        "colab": {
          "base_uri": "https://localhost:8080/"
        },
        "id": "E_ddEYig_oYr",
        "outputId": "7746eae7-8f87-4ab5-c9f1-1256b9be205b"
      },
      "execution_count": null,
      "outputs": [
        {
          "output_type": "execute_result",
          "data": {
            "text/plain": [
              "(1000, 8)"
            ]
          },
          "metadata": {},
          "execution_count": 192
        }
      ]
    },
    {
      "cell_type": "code",
      "source": [
        "def clean_currency(income):\n",
        "    \"\"\" If the value is a string, then remove currency symbol and delimiters\n",
        "    otherwise, the value is numeric and can be converted\n",
        "    \"\"\"\n",
        "    if isinstance(income, str):\n",
        "        return(income.replace('$', '').replace(',', ''))\n",
        "    return(income)"
      ],
      "metadata": {
        "id": "LiovLC3PZ328"
      },
      "execution_count": null,
      "outputs": []
    },
    {
      "cell_type": "code",
      "source": [
        "df['spending_per_month'] = df['spending_per_month'].str.replace(',','').str.replace('$','').astype('float')\n",
        "df['loan_burden'] = df['loan_burden'].str.replace(',','').str.replace('$','').astype('float')"
      ],
      "metadata": {
        "id": "sTx73F1Qh4lO"
      },
      "execution_count": null,
      "outputs": []
    },
    {
      "cell_type": "code",
      "source": [
        "#df['income'] = df['income'].replace({'\\$': '', ',': ''}, regex=True).astype(float)"
      ],
      "metadata": {
        "id": "VLTqY-2EfpMq"
      },
      "execution_count": null,
      "outputs": []
    },
    {
      "cell_type": "code",
      "source": [
        "df['income'].apply(type).value_counts()"
      ],
      "metadata": {
        "colab": {
          "base_uri": "https://localhost:8080/"
        },
        "id": "jXlU-Q75dLLw",
        "outputId": "c43073ed-6fef-4ac0-de64-2c2a21ea0b1e"
      },
      "execution_count": null,
      "outputs": [
        {
          "output_type": "execute_result",
          "data": {
            "text/plain": [
              "<class 'str'>      793\n",
              "<class 'float'>    207\n",
              "Name: income, dtype: int64"
            ]
          },
          "metadata": {},
          "execution_count": 196
        }
      ]
    },
    {
      "cell_type": "code",
      "source": [
        "df.dtypes"
      ],
      "metadata": {
        "colab": {
          "base_uri": "https://localhost:8080/"
        },
        "id": "qU06w5_maRkV",
        "outputId": "1e0aeeac-aed0-49eb-9f81-077104e0999e"
      },
      "execution_count": null,
      "outputs": [
        {
          "output_type": "execute_result",
          "data": {
            "text/plain": [
              "first_name             object\n",
              "last_name              object\n",
              "gender                 object\n",
              "income                 object\n",
              "spending_per_month    float64\n",
              "loan_burden           float64\n",
              "health_burden           int64\n",
              "major_purchases        object\n",
              "dtype: object"
            ]
          },
          "metadata": {},
          "execution_count": 197
        }
      ]
    },
    {
      "cell_type": "code",
      "source": [
        "df.columns"
      ],
      "metadata": {
        "colab": {
          "base_uri": "https://localhost:8080/"
        },
        "id": "0aSScWkxE9Re",
        "outputId": "cd3a8814-a72d-4794-8a35-1b076b263458"
      },
      "execution_count": null,
      "outputs": [
        {
          "output_type": "execute_result",
          "data": {
            "text/plain": [
              "Index(['first_name', 'last_name', 'gender', 'income', 'spending_per_month',\n",
              "       'loan_burden', 'health_burden', 'major_purchases'],\n",
              "      dtype='object')"
            ]
          },
          "metadata": {},
          "execution_count": 198
        }
      ]
    },
    {
      "cell_type": "code",
      "source": [
        "df.index"
      ],
      "metadata": {
        "colab": {
          "base_uri": "https://localhost:8080/"
        },
        "id": "Huub4vqcE_N7",
        "outputId": "bf77064b-1b7b-4c30-e1b5-ca3cd1f23778"
      },
      "execution_count": null,
      "outputs": [
        {
          "output_type": "execute_result",
          "data": {
            "text/plain": [
              "RangeIndex(start=0, stop=1000, step=1)"
            ]
          },
          "metadata": {},
          "execution_count": 199
        }
      ]
    },
    {
      "cell_type": "code",
      "source": [
        "df.isnull().sum()"
      ],
      "metadata": {
        "colab": {
          "base_uri": "https://localhost:8080/"
        },
        "id": "GDDa0CRnFVNc",
        "outputId": "9eb1ec54-f9dc-4283-99e7-7152dc58d0fe"
      },
      "execution_count": null,
      "outputs": [
        {
          "output_type": "execute_result",
          "data": {
            "text/plain": [
              "first_name             66\n",
              "last_name             121\n",
              "gender                  0\n",
              "income                207\n",
              "spending_per_month     48\n",
              "loan_burden           302\n",
              "health_burden           0\n",
              "major_purchases       212\n",
              "dtype: int64"
            ]
          },
          "metadata": {},
          "execution_count": 200
        }
      ]
    },
    {
      "cell_type": "code",
      "source": [
        "df.duplicated().sum()"
      ],
      "metadata": {
        "colab": {
          "base_uri": "https://localhost:8080/"
        },
        "id": "AL8y2MlWha_x",
        "outputId": "16c5aaf1-64f7-4b33-f5d0-4994e3eb319d"
      },
      "execution_count": null,
      "outputs": [
        {
          "output_type": "execute_result",
          "data": {
            "text/plain": [
              "0"
            ]
          },
          "metadata": {},
          "execution_count": 201
        }
      ]
    },
    {
      "cell_type": "code",
      "source": [
        "df.income.dtype"
      ],
      "metadata": {
        "colab": {
          "base_uri": "https://localhost:8080/"
        },
        "id": "R3FQ8EgzRtwq",
        "outputId": "f65f9f57-49b4-45f3-df78-a30728b8f549"
      },
      "execution_count": null,
      "outputs": [
        {
          "output_type": "execute_result",
          "data": {
            "text/plain": [
              "dtype('O')"
            ]
          },
          "metadata": {},
          "execution_count": 202
        }
      ]
    },
    {
      "cell_type": "code",
      "source": [
        "# string to int\n",
        "#df['income'] = df['income'].astype('int')\n",
        "#df.dtype"
      ],
      "metadata": {
        "id": "FkGQ9nyjTRwV"
      },
      "execution_count": null,
      "outputs": []
    },
    {
      "cell_type": "markdown",
      "source": [
        "#trying to use a function that can be reused\n",
        "\n",
        "This function here give you a general idea of the total and percentage of missing data in each column:"
      ],
      "metadata": {
        "id": "2jtKMNiCBdiI"
      }
    },
    {
      "cell_type": "code",
      "source": [
        "def intitial_eda_checks(df):\n",
        "    '''\n",
        "    Takes df\n",
        "    Checks nulls\n",
        "    '''\n",
        "    if df.isnull().sum().sum() > 0:\n",
        "        mask_total = df.isnull().sum().sort_values(ascending=False) \n",
        "        total = mask_total[mask_total > 0]\n",
        "\n",
        "        mask_percent = df.isnull().mean().sort_values(ascending=False) \n",
        "        percent = mask_percent[mask_percent > 0] \n",
        "\n",
        "        missing_data = pd.concat([total, percent], axis=1, keys=['Total', 'Percent'])\n",
        "    \n",
        "        print(f'Total and Percentage of NaN:\\n {missing_data}')\n",
        "    else: \n",
        "        print('No NaN found.')\n",
        "  "
      ],
      "metadata": {
        "id": "VYQYn5MKGriL"
      },
      "execution_count": null,
      "outputs": []
    },
    {
      "cell_type": "code",
      "source": [
        "intitial_eda_checks(df)"
      ],
      "metadata": {
        "colab": {
          "base_uri": "https://localhost:8080/"
        },
        "id": "00Md3TPhZrSz",
        "outputId": "3faa7675-f508-48f3-db00-3d1d861e60e8"
      },
      "execution_count": null,
      "outputs": [
        {
          "output_type": "stream",
          "name": "stdout",
          "text": [
            "Total and Percentage of NaN:\n",
            "                     Total  Percent\n",
            "loan_burden           302    0.302\n",
            "major_purchases       212    0.212\n",
            "income                207    0.207\n",
            "last_name             121    0.121\n",
            "first_name             66    0.066\n",
            "spending_per_month     48    0.048\n"
          ]
        }
      ]
    },
    {
      "cell_type": "markdown",
      "source": [
        "#With specification of the threshold of the missing value percentage, the \n",
        "#following function will give you a list of columns that have missing values over that threshold"
      ],
      "metadata": {
        "id": "oFVMvQHlCxHR"
      }
    },
    {
      "cell_type": "code",
      "source": [
        ""
      ],
      "metadata": {
        "id": "uOp2pnDpZp_Y"
      },
      "execution_count": null,
      "outputs": []
    },
    {
      "cell_type": "code",
      "source": [
        "def view_columns_w_many_nans(df, missing_percent):\n",
        "    '''\n",
        "    Checks which columns have over specified percentage of missing values\n",
        "    Takes df, missing percentage\n",
        "    Returns columns as a list\n",
        "    '''\n",
        "    mask_percent = df.isnull().mean()\n",
        "    series = mask_percent[mask_percent > missing_percent]\n",
        "    columns = series.index.to_list()\n",
        "    print(columns) \n",
        "    return columns"
      ],
      "metadata": {
        "id": "uspBsU6mBq0d"
      },
      "execution_count": null,
      "outputs": []
    },
    {
      "cell_type": "markdown",
      "source": [
        "# Deciding  to drop the columns with too many missing values (over a certain threshold you specify), you can use this function to accomplish the task:"
      ],
      "metadata": {
        "id": "DYsRHrWpECGe"
      }
    },
    {
      "cell_type": "code",
      "source": [
        "def drop_columns_w_many_nans(df, missing_percent):\n",
        "    '''\n",
        "    Takes df, missing percentage\n",
        "    Drops the columns whose missing value is bigger than missing percentage\n",
        "    Returns df\n",
        "    '''\n",
        "    series = view_columns_w_many_nans(df, missing_percent=missing_percent)\n",
        "    list_of_cols = series.index.to_list()\n",
        "    df.drop(columns=list_of_cols)\n",
        "    print(list_of_cols)\n",
        "    return df"
      ],
      "metadata": {
        "id": "pBnjxl4jFbuR"
      },
      "execution_count": null,
      "outputs": []
    },
    {
      "cell_type": "code",
      "source": [
        "df"
      ],
      "metadata": {
        "colab": {
          "base_uri": "https://localhost:8080/",
          "height": 424
        },
        "id": "C1M6nesXFfgs",
        "outputId": "8feb353e-f256-4421-bc4b-b2458dd746c7"
      },
      "execution_count": null,
      "outputs": [
        {
          "output_type": "execute_result",
          "data": {
            "text/plain": [
              "    first_name   last_name    gender      income  spending_per_month  \\\n",
              "0       Wyatan     Cadigan      Male  $156703.51              975.78   \n",
              "1     Harriett    Hanratty    Female   $74103.09             4087.96   \n",
              "2        Danya      Rosoni      Male    $6594.46               28.08   \n",
              "3       Shermy         NaN      Male   $18348.07             2823.02   \n",
              "4     Tatiania      Preedy    Female   $16625.11              544.94   \n",
              "..         ...         ...       ...         ...                 ...   \n",
              "995       Burl      Tomsen  Bigender  $125303.95             4041.82   \n",
              "996     Guinna       Degoy    Female   $41231.18              964.38   \n",
              "997     Robena  Norsworthy    Female  $167585.40                 NaN   \n",
              "998      Korie    Turgoose    Female         NaN             2879.23   \n",
              "999   Sharleen    Arnaudot    Female  $173567.55             1969.29   \n",
              "\n",
              "     loan_burden  health_burden major_purchases  \n",
              "0      433525.17              0      mastercard  \n",
              "1      414034.91              0      mastercard  \n",
              "2      415657.74              0      mastercard  \n",
              "3      314674.14              1      mastercard  \n",
              "4      182711.32              0      mastercard  \n",
              "..           ...            ...             ...  \n",
              "995    235349.80              0             NaN  \n",
              "996          NaN              0      mastercard  \n",
              "997     24947.66              0      mastercard  \n",
              "998          NaN              0      mastercard  \n",
              "999          NaN              0      mastercard  \n",
              "\n",
              "[1000 rows x 8 columns]"
            ],
            "text/html": [
              "\n",
              "  <div id=\"df-7ccfe9bb-7173-409f-8944-6c946e510d76\">\n",
              "    <div class=\"colab-df-container\">\n",
              "      <div>\n",
              "<style scoped>\n",
              "    .dataframe tbody tr th:only-of-type {\n",
              "        vertical-align: middle;\n",
              "    }\n",
              "\n",
              "    .dataframe tbody tr th {\n",
              "        vertical-align: top;\n",
              "    }\n",
              "\n",
              "    .dataframe thead th {\n",
              "        text-align: right;\n",
              "    }\n",
              "</style>\n",
              "<table border=\"1\" class=\"dataframe\">\n",
              "  <thead>\n",
              "    <tr style=\"text-align: right;\">\n",
              "      <th></th>\n",
              "      <th>first_name</th>\n",
              "      <th>last_name</th>\n",
              "      <th>gender</th>\n",
              "      <th>income</th>\n",
              "      <th>spending_per_month</th>\n",
              "      <th>loan_burden</th>\n",
              "      <th>health_burden</th>\n",
              "      <th>major_purchases</th>\n",
              "    </tr>\n",
              "  </thead>\n",
              "  <tbody>\n",
              "    <tr>\n",
              "      <th>0</th>\n",
              "      <td>Wyatan</td>\n",
              "      <td>Cadigan</td>\n",
              "      <td>Male</td>\n",
              "      <td>$156703.51</td>\n",
              "      <td>975.78</td>\n",
              "      <td>433525.17</td>\n",
              "      <td>0</td>\n",
              "      <td>mastercard</td>\n",
              "    </tr>\n",
              "    <tr>\n",
              "      <th>1</th>\n",
              "      <td>Harriett</td>\n",
              "      <td>Hanratty</td>\n",
              "      <td>Female</td>\n",
              "      <td>$74103.09</td>\n",
              "      <td>4087.96</td>\n",
              "      <td>414034.91</td>\n",
              "      <td>0</td>\n",
              "      <td>mastercard</td>\n",
              "    </tr>\n",
              "    <tr>\n",
              "      <th>2</th>\n",
              "      <td>Danya</td>\n",
              "      <td>Rosoni</td>\n",
              "      <td>Male</td>\n",
              "      <td>$6594.46</td>\n",
              "      <td>28.08</td>\n",
              "      <td>415657.74</td>\n",
              "      <td>0</td>\n",
              "      <td>mastercard</td>\n",
              "    </tr>\n",
              "    <tr>\n",
              "      <th>3</th>\n",
              "      <td>Shermy</td>\n",
              "      <td>NaN</td>\n",
              "      <td>Male</td>\n",
              "      <td>$18348.07</td>\n",
              "      <td>2823.02</td>\n",
              "      <td>314674.14</td>\n",
              "      <td>1</td>\n",
              "      <td>mastercard</td>\n",
              "    </tr>\n",
              "    <tr>\n",
              "      <th>4</th>\n",
              "      <td>Tatiania</td>\n",
              "      <td>Preedy</td>\n",
              "      <td>Female</td>\n",
              "      <td>$16625.11</td>\n",
              "      <td>544.94</td>\n",
              "      <td>182711.32</td>\n",
              "      <td>0</td>\n",
              "      <td>mastercard</td>\n",
              "    </tr>\n",
              "    <tr>\n",
              "      <th>...</th>\n",
              "      <td>...</td>\n",
              "      <td>...</td>\n",
              "      <td>...</td>\n",
              "      <td>...</td>\n",
              "      <td>...</td>\n",
              "      <td>...</td>\n",
              "      <td>...</td>\n",
              "      <td>...</td>\n",
              "    </tr>\n",
              "    <tr>\n",
              "      <th>995</th>\n",
              "      <td>Burl</td>\n",
              "      <td>Tomsen</td>\n",
              "      <td>Bigender</td>\n",
              "      <td>$125303.95</td>\n",
              "      <td>4041.82</td>\n",
              "      <td>235349.80</td>\n",
              "      <td>0</td>\n",
              "      <td>NaN</td>\n",
              "    </tr>\n",
              "    <tr>\n",
              "      <th>996</th>\n",
              "      <td>Guinna</td>\n",
              "      <td>Degoy</td>\n",
              "      <td>Female</td>\n",
              "      <td>$41231.18</td>\n",
              "      <td>964.38</td>\n",
              "      <td>NaN</td>\n",
              "      <td>0</td>\n",
              "      <td>mastercard</td>\n",
              "    </tr>\n",
              "    <tr>\n",
              "      <th>997</th>\n",
              "      <td>Robena</td>\n",
              "      <td>Norsworthy</td>\n",
              "      <td>Female</td>\n",
              "      <td>$167585.40</td>\n",
              "      <td>NaN</td>\n",
              "      <td>24947.66</td>\n",
              "      <td>0</td>\n",
              "      <td>mastercard</td>\n",
              "    </tr>\n",
              "    <tr>\n",
              "      <th>998</th>\n",
              "      <td>Korie</td>\n",
              "      <td>Turgoose</td>\n",
              "      <td>Female</td>\n",
              "      <td>NaN</td>\n",
              "      <td>2879.23</td>\n",
              "      <td>NaN</td>\n",
              "      <td>0</td>\n",
              "      <td>mastercard</td>\n",
              "    </tr>\n",
              "    <tr>\n",
              "      <th>999</th>\n",
              "      <td>Sharleen</td>\n",
              "      <td>Arnaudot</td>\n",
              "      <td>Female</td>\n",
              "      <td>$173567.55</td>\n",
              "      <td>1969.29</td>\n",
              "      <td>NaN</td>\n",
              "      <td>0</td>\n",
              "      <td>mastercard</td>\n",
              "    </tr>\n",
              "  </tbody>\n",
              "</table>\n",
              "<p>1000 rows × 8 columns</p>\n",
              "</div>\n",
              "      <button class=\"colab-df-convert\" onclick=\"convertToInteractive('df-7ccfe9bb-7173-409f-8944-6c946e510d76')\"\n",
              "              title=\"Convert this dataframe to an interactive table.\"\n",
              "              style=\"display:none;\">\n",
              "        \n",
              "  <svg xmlns=\"http://www.w3.org/2000/svg\" height=\"24px\"viewBox=\"0 0 24 24\"\n",
              "       width=\"24px\">\n",
              "    <path d=\"M0 0h24v24H0V0z\" fill=\"none\"/>\n",
              "    <path d=\"M18.56 5.44l.94 2.06.94-2.06 2.06-.94-2.06-.94-.94-2.06-.94 2.06-2.06.94zm-11 1L8.5 8.5l.94-2.06 2.06-.94-2.06-.94L8.5 2.5l-.94 2.06-2.06.94zm10 10l.94 2.06.94-2.06 2.06-.94-2.06-.94-.94-2.06-.94 2.06-2.06.94z\"/><path d=\"M17.41 7.96l-1.37-1.37c-.4-.4-.92-.59-1.43-.59-.52 0-1.04.2-1.43.59L10.3 9.45l-7.72 7.72c-.78.78-.78 2.05 0 2.83L4 21.41c.39.39.9.59 1.41.59.51 0 1.02-.2 1.41-.59l7.78-7.78 2.81-2.81c.8-.78.8-2.07 0-2.86zM5.41 20L4 18.59l7.72-7.72 1.47 1.35L5.41 20z\"/>\n",
              "  </svg>\n",
              "      </button>\n",
              "      \n",
              "  <style>\n",
              "    .colab-df-container {\n",
              "      display:flex;\n",
              "      flex-wrap:wrap;\n",
              "      gap: 12px;\n",
              "    }\n",
              "\n",
              "    .colab-df-convert {\n",
              "      background-color: #E8F0FE;\n",
              "      border: none;\n",
              "      border-radius: 50%;\n",
              "      cursor: pointer;\n",
              "      display: none;\n",
              "      fill: #1967D2;\n",
              "      height: 32px;\n",
              "      padding: 0 0 0 0;\n",
              "      width: 32px;\n",
              "    }\n",
              "\n",
              "    .colab-df-convert:hover {\n",
              "      background-color: #E2EBFA;\n",
              "      box-shadow: 0px 1px 2px rgba(60, 64, 67, 0.3), 0px 1px 3px 1px rgba(60, 64, 67, 0.15);\n",
              "      fill: #174EA6;\n",
              "    }\n",
              "\n",
              "    [theme=dark] .colab-df-convert {\n",
              "      background-color: #3B4455;\n",
              "      fill: #D2E3FC;\n",
              "    }\n",
              "\n",
              "    [theme=dark] .colab-df-convert:hover {\n",
              "      background-color: #434B5C;\n",
              "      box-shadow: 0px 1px 3px 1px rgba(0, 0, 0, 0.15);\n",
              "      filter: drop-shadow(0px 1px 2px rgba(0, 0, 0, 0.3));\n",
              "      fill: #FFFFFF;\n",
              "    }\n",
              "  </style>\n",
              "\n",
              "      <script>\n",
              "        const buttonEl =\n",
              "          document.querySelector('#df-7ccfe9bb-7173-409f-8944-6c946e510d76 button.colab-df-convert');\n",
              "        buttonEl.style.display =\n",
              "          google.colab.kernel.accessAllowed ? 'block' : 'none';\n",
              "\n",
              "        async function convertToInteractive(key) {\n",
              "          const element = document.querySelector('#df-7ccfe9bb-7173-409f-8944-6c946e510d76');\n",
              "          const dataTable =\n",
              "            await google.colab.kernel.invokeFunction('convertToInteractive',\n",
              "                                                     [key], {});\n",
              "          if (!dataTable) return;\n",
              "\n",
              "          const docLinkHtml = 'Like what you see? Visit the ' +\n",
              "            '<a target=\"_blank\" href=https://colab.research.google.com/notebooks/data_table.ipynb>data table notebook</a>'\n",
              "            + ' to learn more about interactive tables.';\n",
              "          element.innerHTML = '';\n",
              "          dataTable['output_type'] = 'display_data';\n",
              "          await google.colab.output.renderOutput(dataTable, element);\n",
              "          const docLink = document.createElement('div');\n",
              "          docLink.innerHTML = docLinkHtml;\n",
              "          element.appendChild(docLink);\n",
              "        }\n",
              "      </script>\n",
              "    </div>\n",
              "  </div>\n",
              "  "
            ]
          },
          "metadata": {},
          "execution_count": 208
        }
      ]
    },
    {
      "cell_type": "code",
      "source": [
        "df.isnull().sum()"
      ],
      "metadata": {
        "colab": {
          "base_uri": "https://localhost:8080/"
        },
        "id": "h3TQfqcTFiMZ",
        "outputId": "5c530728-ea8a-4b37-b4a0-8a560325a509"
      },
      "execution_count": null,
      "outputs": [
        {
          "output_type": "execute_result",
          "data": {
            "text/plain": [
              "first_name             66\n",
              "last_name             121\n",
              "gender                  0\n",
              "income                207\n",
              "spending_per_month     48\n",
              "loan_burden           302\n",
              "health_burden           0\n",
              "major_purchases       212\n",
              "dtype: int64"
            ]
          },
          "metadata": {},
          "execution_count": 209
        }
      ]
    },
    {
      "cell_type": "code",
      "source": [
        "df.duplicated().sum()"
      ],
      "metadata": {
        "colab": {
          "base_uri": "https://localhost:8080/"
        },
        "id": "YipToFAQUaYz",
        "outputId": "9b88c194-1eb5-4da4-bf57-1a9d575e4d65"
      },
      "execution_count": null,
      "outputs": [
        {
          "output_type": "execute_result",
          "data": {
            "text/plain": [
              "0"
            ]
          },
          "metadata": {},
          "execution_count": 210
        }
      ]
    },
    {
      "cell_type": "code",
      "source": [
        "#unique values\n",
        " \n",
        "df['income'].unique()\n",
        "\n",
        "df['spending_per_month'].unique()\n",
        "\n",
        "df['loan_burden'].unique()\n",
        "\n",
        "df['major_purchases'].unique()"
      ],
      "metadata": {
        "colab": {
          "base_uri": "https://localhost:8080/"
        },
        "id": "5PV7hA6ZU5_L",
        "outputId": "4e3d080b-93a4-462d-f33e-02c36e7794cc"
      },
      "execution_count": null,
      "outputs": [
        {
          "output_type": "execute_result",
          "data": {
            "text/plain": [
              "array(['mastercard', nan], dtype=object)"
            ]
          },
          "metadata": {},
          "execution_count": 211
        }
      ]
    },
    {
      "cell_type": "code",
      "source": [
        "df.corr()"
      ],
      "metadata": {
        "id": "3QZTAwR6RyTw",
        "outputId": "0c1b3b51-9b76-4e96-fb43-aa780f7c3ea6",
        "colab": {
          "base_uri": "https://localhost:8080/",
          "height": 143
        }
      },
      "execution_count": null,
      "outputs": [
        {
          "output_type": "execute_result",
          "data": {
            "text/plain": [
              "                    spending_per_month  loan_burden  health_burden\n",
              "spending_per_month            1.000000    -0.057481      -0.023369\n",
              "loan_burden                  -0.057481     1.000000       0.044647\n",
              "health_burden                -0.023369     0.044647       1.000000"
            ],
            "text/html": [
              "\n",
              "  <div id=\"df-43ac210f-1cc4-4aa2-8b51-3feec9f3cd30\">\n",
              "    <div class=\"colab-df-container\">\n",
              "      <div>\n",
              "<style scoped>\n",
              "    .dataframe tbody tr th:only-of-type {\n",
              "        vertical-align: middle;\n",
              "    }\n",
              "\n",
              "    .dataframe tbody tr th {\n",
              "        vertical-align: top;\n",
              "    }\n",
              "\n",
              "    .dataframe thead th {\n",
              "        text-align: right;\n",
              "    }\n",
              "</style>\n",
              "<table border=\"1\" class=\"dataframe\">\n",
              "  <thead>\n",
              "    <tr style=\"text-align: right;\">\n",
              "      <th></th>\n",
              "      <th>spending_per_month</th>\n",
              "      <th>loan_burden</th>\n",
              "      <th>health_burden</th>\n",
              "    </tr>\n",
              "  </thead>\n",
              "  <tbody>\n",
              "    <tr>\n",
              "      <th>spending_per_month</th>\n",
              "      <td>1.000000</td>\n",
              "      <td>-0.057481</td>\n",
              "      <td>-0.023369</td>\n",
              "    </tr>\n",
              "    <tr>\n",
              "      <th>loan_burden</th>\n",
              "      <td>-0.057481</td>\n",
              "      <td>1.000000</td>\n",
              "      <td>0.044647</td>\n",
              "    </tr>\n",
              "    <tr>\n",
              "      <th>health_burden</th>\n",
              "      <td>-0.023369</td>\n",
              "      <td>0.044647</td>\n",
              "      <td>1.000000</td>\n",
              "    </tr>\n",
              "  </tbody>\n",
              "</table>\n",
              "</div>\n",
              "      <button class=\"colab-df-convert\" onclick=\"convertToInteractive('df-43ac210f-1cc4-4aa2-8b51-3feec9f3cd30')\"\n",
              "              title=\"Convert this dataframe to an interactive table.\"\n",
              "              style=\"display:none;\">\n",
              "        \n",
              "  <svg xmlns=\"http://www.w3.org/2000/svg\" height=\"24px\"viewBox=\"0 0 24 24\"\n",
              "       width=\"24px\">\n",
              "    <path d=\"M0 0h24v24H0V0z\" fill=\"none\"/>\n",
              "    <path d=\"M18.56 5.44l.94 2.06.94-2.06 2.06-.94-2.06-.94-.94-2.06-.94 2.06-2.06.94zm-11 1L8.5 8.5l.94-2.06 2.06-.94-2.06-.94L8.5 2.5l-.94 2.06-2.06.94zm10 10l.94 2.06.94-2.06 2.06-.94-2.06-.94-.94-2.06-.94 2.06-2.06.94z\"/><path d=\"M17.41 7.96l-1.37-1.37c-.4-.4-.92-.59-1.43-.59-.52 0-1.04.2-1.43.59L10.3 9.45l-7.72 7.72c-.78.78-.78 2.05 0 2.83L4 21.41c.39.39.9.59 1.41.59.51 0 1.02-.2 1.41-.59l7.78-7.78 2.81-2.81c.8-.78.8-2.07 0-2.86zM5.41 20L4 18.59l7.72-7.72 1.47 1.35L5.41 20z\"/>\n",
              "  </svg>\n",
              "      </button>\n",
              "      \n",
              "  <style>\n",
              "    .colab-df-container {\n",
              "      display:flex;\n",
              "      flex-wrap:wrap;\n",
              "      gap: 12px;\n",
              "    }\n",
              "\n",
              "    .colab-df-convert {\n",
              "      background-color: #E8F0FE;\n",
              "      border: none;\n",
              "      border-radius: 50%;\n",
              "      cursor: pointer;\n",
              "      display: none;\n",
              "      fill: #1967D2;\n",
              "      height: 32px;\n",
              "      padding: 0 0 0 0;\n",
              "      width: 32px;\n",
              "    }\n",
              "\n",
              "    .colab-df-convert:hover {\n",
              "      background-color: #E2EBFA;\n",
              "      box-shadow: 0px 1px 2px rgba(60, 64, 67, 0.3), 0px 1px 3px 1px rgba(60, 64, 67, 0.15);\n",
              "      fill: #174EA6;\n",
              "    }\n",
              "\n",
              "    [theme=dark] .colab-df-convert {\n",
              "      background-color: #3B4455;\n",
              "      fill: #D2E3FC;\n",
              "    }\n",
              "\n",
              "    [theme=dark] .colab-df-convert:hover {\n",
              "      background-color: #434B5C;\n",
              "      box-shadow: 0px 1px 3px 1px rgba(0, 0, 0, 0.15);\n",
              "      filter: drop-shadow(0px 1px 2px rgba(0, 0, 0, 0.3));\n",
              "      fill: #FFFFFF;\n",
              "    }\n",
              "  </style>\n",
              "\n",
              "      <script>\n",
              "        const buttonEl =\n",
              "          document.querySelector('#df-43ac210f-1cc4-4aa2-8b51-3feec9f3cd30 button.colab-df-convert');\n",
              "        buttonEl.style.display =\n",
              "          google.colab.kernel.accessAllowed ? 'block' : 'none';\n",
              "\n",
              "        async function convertToInteractive(key) {\n",
              "          const element = document.querySelector('#df-43ac210f-1cc4-4aa2-8b51-3feec9f3cd30');\n",
              "          const dataTable =\n",
              "            await google.colab.kernel.invokeFunction('convertToInteractive',\n",
              "                                                     [key], {});\n",
              "          if (!dataTable) return;\n",
              "\n",
              "          const docLinkHtml = 'Like what you see? Visit the ' +\n",
              "            '<a target=\"_blank\" href=https://colab.research.google.com/notebooks/data_table.ipynb>data table notebook</a>'\n",
              "            + ' to learn more about interactive tables.';\n",
              "          element.innerHTML = '';\n",
              "          dataTable['output_type'] = 'display_data';\n",
              "          await google.colab.output.renderOutput(dataTable, element);\n",
              "          const docLink = document.createElement('div');\n",
              "          docLink.innerHTML = docLinkHtml;\n",
              "          element.appendChild(docLink);\n",
              "        }\n",
              "      </script>\n",
              "    </div>\n",
              "  </div>\n",
              "  "
            ]
          },
          "metadata": {},
          "execution_count": 213
        }
      ]
    },
    {
      "cell_type": "code",
      "source": [
        "fig=df['loan_burden'].hist(bins=50)"
      ],
      "metadata": {
        "colab": {
          "base_uri": "https://localhost:8080/",
          "height": 265
        },
        "id": "h2XaI0MbFw_7",
        "outputId": "d568fbbb-6d37-4434-cb08-0d75adacc1f9"
      },
      "execution_count": null,
      "outputs": [
        {
          "output_type": "display_data",
          "data": {
            "text/plain": [
              "<Figure size 432x288 with 1 Axes>"
            ],
            "image/png": "[encoded data removed]"
          },
          "metadata": {
            "needs_background": "light"
          }
        }
      ]
    }
  ]
}